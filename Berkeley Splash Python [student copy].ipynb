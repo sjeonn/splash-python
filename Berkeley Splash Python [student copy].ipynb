{
 "cells": [
  {
   "cell_type": "markdown",
   "metadata": {
    "id": "WMWD0Rk2qM-b"
   },
   "source": [
    "# Splash at Berkeley Introduction to Python\n",
    "## 3/13/2021\n",
    "### Table of Contents:\n",
    "1. [Basic Python Syntax](#section1)  \n",
    "    1.1 [Jupyter Notebooks](#section1.1)  \n",
    "    1.2 [Text](#section1.2)  \n",
    "    1.3 [Code](#section1.3)  \n",
    "    1.4 [Writing in Jupyter Notebooks](#section1.4)  \n",
    "    1.5 [Errors](#section1.5)  \n",
    "2. [Numbers](#section2)  \n",
    "    2.1 [Basic Arithmetic Operations](#section2.1)  \n",
    "3. [Variables and Functions](#section3)  \n",
    "    3.1 [Commenting](#section3.1)  \n",
    "    3.2 [Assignment Statments](#section3.2)  \n",
    "    3.3 [Functions](#section3.3)  \n",
    "    3.4 [Data Types](#section3.4)  \n",
    "    3.5 [Importing Code](#section3.5)  \n",
    "    3.6 [Creating your own functions](#section3.6)\n",
    "4. [Lists](#section4)  \n",
    "    4.1 [Creating lists](#section4.1)     \n",
    "    4.2 [Single elements of lists](#section4.2)      \n",
    "    4.3 [List operations](#section4.3)     \n",
    "5. [Challenge Questions](#section5)  \n",
    "    5.1 [Arithmetic](#section5.1)  \n",
    "    5.2 [Arrays and Arithmetic](#section5.2)   \n",
    "6. [Feedback survey](#section6)   \n",
    "\n",
    "\n",
    "### Contact:\n",
    "Sage Jeon - sungjoojeon@berkeley.edu\n",
    "    "
   ]
  },
  {
   "cell_type": "markdown",
   "metadata": {
    "id": "gcrbKeCDqM-g"
   },
   "source": [
    "<a id='section1'></a>\n",
    "# Part 1: Basic Python Syntax"
   ]
  },
  {
   "cell_type": "markdown",
   "metadata": {
    "id": "EsrNChOXqM-h"
   },
   "source": [
    "This course will teach you to:\n",
    "1. navigate Jupyter Notebooks (like this one)\n",
    "2. write and evaluate some basic *expressions* in Python\n",
    "3. call *functions* to use prewritten code other people have written;\n",
    "4. break down Python code into smaller parts to understand it."
   ]
  },
  {
   "cell_type": "markdown",
   "metadata": {
    "id": "Kxu__KYVqM-h"
   },
   "source": [
    "<a id='section1.1'></a>\n",
    "### 1.1 Jupyter Notebooks"
   ]
  },
  {
   "cell_type": "markdown",
   "metadata": {
    "id": "-T49r2AIqM-h"
   },
   "source": [
    " - Some shortcuts:\n",
    "     - `Esc` - `a`: creates a cell above current cell\n",
    "     - `Esc` - `b`: creates a cell below current cell\n",
    "     - Alternatives to `shift` - `enter`:\n",
    "         - `ctrl` - `enter`: run cell, keeps cursor in cell\n",
    "         - `opt` - `enter`: run cell, create new cell below"
   ]
  },
  {
   "cell_type": "markdown",
   "metadata": {
    "id": "3pYxefgHqM-i"
   },
   "source": [
    "Each rectangle containing text is a *cell*.\n",
    "\n",
    "There are two types of cells: Text and Code"
   ]
  },
  {
   "cell_type": "markdown",
   "metadata": {
    "id": "TtBCwpRqqM-i"
   },
   "source": [
    "<a id='section1.2'></a>\n",
    "### 1.2 Text\n",
    "    - simple cells with text (like this one)\n",
    "    - can be edited by double-clicking on the cell."
   ]
  },
  {
   "cell_type": "markdown",
   "metadata": {
    "id": "CC3mdxC6qM-i"
   },
   "source": [
    "**Practice:**\n",
    "\n",
    "    Complete the following sentence structure:"
   ]
  },
  {
   "cell_type": "markdown",
   "metadata": {
    "id": "kmy2I05tqM-i"
   },
   "source": [
    "Hi, my name is"
   ]
  },
  {
   "cell_type": "markdown",
   "metadata": {
    "id": "vpcetBE1qM-j"
   },
   "source": [
    "<a id='section1.3'></a>\n",
    "### 1.3 Code\n",
    "   - The language that we are using in this notebook is Python 3\n",
    "   - \"running a cell\" will execute all of the code the cell contains\n",
    "   - cells can be edited by double-clicking the cell, it'll be highlighted with a little green or blue rectangle\n",
    "   - to run the code in a cell press the ▶| button or press `shift` + `enter`\n",
    "\n",
    "Try running this cell:"
   ]
  },
  {
   "cell_type": "code",
   "execution_count": null,
   "metadata": {
    "id": "l1-pavE-qM-j"
   },
   "outputs": [],
   "source": [
    "print(\"Berkeley Splash is the best!!!\")"
   ]
  },
  {
   "cell_type": "markdown",
   "metadata": {
    "id": "NEXsjL5IqM-k"
   },
   "source": [
    "And this one:"
   ]
  },
  {
   "cell_type": "code",
   "execution_count": null,
   "metadata": {
    "id": "pIgVcWo4qM-k"
   },
   "outputs": [],
   "source": [
    "print(\"\\N{WAVING HAND SIGN}, \\N{EARTH GLOBE ASIA-AUSTRALIA}!\")"
   ]
  },
  {
   "cell_type": "markdown",
   "metadata": {
    "id": "B4c9IjsZqM-k"
   },
   "source": [
    "Code is broken down into different lines called expressions. Cells can contain multiple lines with multiple expressions. When you run a cell, the lines of code are executed in the order in which they appear. \n",
    "\n",
    "Every `print` expression prints a line. Run the next line and notice the order of the output"
   ]
  },
  {
   "cell_type": "code",
   "execution_count": null,
   "metadata": {
    "id": "cRul7SrMqM-k"
   },
   "outputs": [],
   "source": [
    "print('This line is first,')\n",
    "print('and this one is last.')"
   ]
  },
  {
   "cell_type": "markdown",
   "metadata": {
    "id": "WQZy5CNpqM-k"
   },
   "source": [
    "**Question 1.3.1.** Change the cell above so that it prints out:\n",
    "    \n",
    "    This line is first,\n",
    "    then the whole 🌏,\n",
    "    and this one is last.\n",
    "\n",
    "Hint: if you are stuck on the Earth symbol, try asking your neighbor :)"
   ]
  },
  {
   "cell_type": "markdown",
   "metadata": {
    "id": "pxhG9sFQqM-l"
   },
   "source": [
    "<a id='section1.4'></a>\n",
    "### 1.4. Writing in Jupyter Notebooks\n",
    "Although we have created this notebook for you to learn, you will need to create cells in the future. Lets start with adding new cells for text and code.\n",
    "\n",
    "To add a cell, click the + button in the menu bar. If the left sidebar has `In [ ]` then it is a code cell, if it is blank it is a text cell. To change the type of cell you can do either of these options:\n",
    "1. select the cell then click cell from the toolbar and choose Cell Type. (Don't worry about \"Raw NBConvert\").\n",
    "2. click the left side of the cell and press `m` for markdown cell or `y` for a code cell."
   ]
  },
  {
   "cell_type": "markdown",
   "metadata": {
    "id": "Ft_dJPJ3qM-l"
   },
   "source": [
    "<a id='section1.5'></a>\n",
    "### 1.5. Errors\n",
    "Python is just like any other language you learn, there are grammar rules and these are really important. The computer is designed to excute code based on what it was programmed to understand.\n",
    "1. The rules are *simple*\n",
    "2. The most common error is a Syntax Error\n",
    "\n",
    "Today we are going to teach you a simple error to fix: `SyntaxError`. It tells you that you have created an illegal structure, or in other words, you broke the \"grammar rules\"\n",
    "\n",
    "We have made an error in the next cell. Run it and see what happens."
   ]
  },
  {
   "cell_type": "code",
   "execution_count": null,
   "metadata": {
    "id": "qYUYEooWqM-l"
   },
   "outputs": [],
   "source": [
    "print(\"This line is missing something.\""
   ]
  },
  {
   "cell_type": "markdown",
   "metadata": {
    "id": "_oPGKOtqqM-l"
   },
   "source": [
    "Lets break this down, the last line of the error output attempts to tell you in english what went wrong. \"`EOF`\" means \"end of file\". Also notice how there is a small carrot that points to a part of the ran cell. This attempts to tell you \"where\" you made the error.\n",
    "\n",
    "There is a lot of unnessary cryptic terminology in programming languages but you don't need to understand it all, try to just look at the last line of the error, that is the most simple version of the problem.\n",
    "\n",
    "**Question 1.5.1.** Try to fix the code above so that you can run the cell and see the intended message instead of an error"
   ]
  },
  {
   "cell_type": "markdown",
   "metadata": {
    "id": "mC-Ay6PKqM-m"
   },
   "source": [
    "<a id='section2'></a>\n",
    "# Part 2: Numbers\n",
    "In addition to representing commands to print out lines of code, or *expressions* Python also knows how to intrepret and evaluate numbers. The expression `15.0210000` evaluates to the number 15.021. Run the cell below and see:"
   ]
  },
  {
   "cell_type": "code",
   "execution_count": null,
   "metadata": {
    "id": "6mdQ2zZ0qM-m"
   },
   "outputs": [],
   "source": [
    "15.0210000"
   ]
  },
  {
   "cell_type": "markdown",
   "metadata": {
    "id": "3EBdqTnYqM-n"
   },
   "source": [
    "Notice how we didn't use the function `print`. This is because the last line has a value it will print that value for you. BUT, it will disregard any prior lines."
   ]
  },
  {
   "cell_type": "code",
   "execution_count": null,
   "metadata": {
    "id": "k7omxYuLqM-n"
   },
   "outputs": [],
   "source": [
    "1\n",
    "2\n",
    "3"
   ]
  },
  {
   "cell_type": "markdown",
   "metadata": {
    "id": "95MQc1T7qM-n"
   },
   "source": [
    "**Question 2.0.1.** If you want the output to include 1, use the function `print`. Change the cell below to produce an output with 1 and 3"
   ]
  },
  {
   "cell_type": "code",
   "execution_count": null,
   "metadata": {
    "id": "KrMoDG3hqM-n"
   },
   "outputs": [],
   "source": [
    "1\n",
    "2\n",
    "3"
   ]
  },
  {
   "cell_type": "markdown",
   "metadata": {
    "id": "awJFi7e_qM-o"
   },
   "source": [
    "<a id='section2.1'></a>\n",
    "### 2.1 Basic Arithmetic Operations\n",
    "Lets learn a few basic (and extremely useful) operations "
   ]
  },
  {
   "cell_type": "markdown",
   "metadata": {
    "id": "JVux5VQtqM-o"
   },
   "source": [
    "Addition: `+`"
   ]
  },
  {
   "cell_type": "code",
   "execution_count": null,
   "metadata": {
    "id": "ARs0_FVrqM-o"
   },
   "outputs": [],
   "source": []
  },
  {
   "cell_type": "markdown",
   "metadata": {
    "id": "YXJosjpUqM-o"
   },
   "source": [
    "Subtraction: `-`"
   ]
  },
  {
   "cell_type": "code",
   "execution_count": null,
   "metadata": {
    "id": "9YNFf1HzqM-o"
   },
   "outputs": [],
   "source": []
  },
  {
   "cell_type": "markdown",
   "metadata": {
    "id": "JU5K9vLtqM-o"
   },
   "source": [
    "Multiplication: `*`"
   ]
  },
  {
   "cell_type": "code",
   "execution_count": null,
   "metadata": {
    "id": "LmxMtTBMqM-o"
   },
   "outputs": [],
   "source": []
  },
  {
   "cell_type": "markdown",
   "metadata": {
    "id": "GpXZq_GwqM-o"
   },
   "source": [
    "Division: `/`"
   ]
  },
  {
   "cell_type": "code",
   "execution_count": null,
   "metadata": {
    "id": "N_pWf5qjqM-p"
   },
   "outputs": [],
   "source": []
  },
  {
   "cell_type": "markdown",
   "metadata": {
    "id": "W1Xd29n0qM-p"
   },
   "source": [
    "Floor Division: `//`\n",
    "This divides the number and rounds down"
   ]
  },
  {
   "cell_type": "code",
   "execution_count": null,
   "metadata": {
    "id": "TJlAXLzNqM-p"
   },
   "outputs": [],
   "source": []
  },
  {
   "cell_type": "markdown",
   "metadata": {
    "id": "p706_BJ5qM-p"
   },
   "source": [
    "Remainder: `%`"
   ]
  },
  {
   "cell_type": "code",
   "execution_count": null,
   "metadata": {
    "id": "yX-L0JCRqM-p"
   },
   "outputs": [],
   "source": []
  },
  {
   "cell_type": "markdown",
   "metadata": {
    "id": "gtSqZTCrqM-p"
   },
   "source": [
    "Exponetiation: `**`"
   ]
  },
  {
   "cell_type": "code",
   "execution_count": null,
   "metadata": {
    "id": "veOOeJCIqM-p"
   },
   "outputs": [],
   "source": []
  },
  {
   "cell_type": "markdown",
   "metadata": {
    "id": "P7uJ_i_jqM-p"
   },
   "source": [
    "Note: `2 * * 5` will return an error. See below:"
   ]
  },
  {
   "cell_type": "code",
   "execution_count": null,
   "metadata": {
    "id": "DdWoOv2kqM-q"
   },
   "outputs": [],
   "source": []
  },
  {
   "cell_type": "markdown",
   "metadata": {
    "id": "UDHwo86vqM-q"
   },
   "source": [
    "Python has rules like order of operations (PEMDAS), run the following cell:"
   ]
  },
  {
   "cell_type": "code",
   "execution_count": null,
   "metadata": {
    "id": "Y3PnUDohqM-q"
   },
   "outputs": [],
   "source": [
    "3+6*5-6*3**2*2**3/4*7"
   ]
  },
  {
   "cell_type": "markdown",
   "metadata": {
    "id": "tc88HZFiqM-q"
   },
   "source": [
    "Now run this cell, notice the use of parenthesis. Happy New Year!!"
   ]
  },
  {
   "cell_type": "code",
   "execution_count": null,
   "metadata": {
    "id": "qtBq-Zq5qM-q"
   },
   "outputs": [],
   "source": [
    "3+(6*5-(6*3))**2*((2**3)/4*7)"
   ]
  },
  {
   "cell_type": "markdown",
   "metadata": {
    "id": "YKczfcRuqM-q"
   },
   "source": [
    "This is what Python reads for the first expression:\n",
    "\n",
    "$$3+6 \\times 5-6 \\times 3^2 \\times \\frac{2^3} {4} \\times 7$$\n",
    "\n",
    "The second expression is evaluated as:\n",
    "\n",
    "$$3 + (6 \\times 5 - (6 \\times3))^2 \\times (\\frac{(2^3)}{4} \\times 7)$$"
   ]
  },
  {
   "cell_type": "markdown",
   "metadata": {
    "id": "Ju1ftkJkqM-q"
   },
   "source": [
    "**Question 2.1.1** Write a python expression below that is equal to:\n",
    "\n",
    "$$1 + (5 \\times 8 - (44 \\times2))^1 \\times (\\frac{(4^3)}{4})$$"
   ]
  },
  {
   "cell_type": "code",
   "execution_count": null,
   "metadata": {
    "id": "1r7wsUrnqM-s"
   },
   "outputs": [],
   "source": []
  },
  {
   "cell_type": "markdown",
   "metadata": {
    "id": "oQV-WF76qM-s"
   },
   "source": [
    "<a id='section3'></a>\n",
    "# Part 3: Variables and Fuctions"
   ]
  },
  {
   "cell_type": "markdown",
   "metadata": {
    "id": "Qus7unCiqM-t"
   },
   "source": [
    "<a id='section3.1'></a>\n",
    "### 3.1 Commenting\n",
    "A *comment* is a line of code that the computer does not run. Why do we need this? When code has hundreds or even thousands of lines, it is sometimes hard to know what exactly the computer is computing in certain places. Adding comments allow the coder (you) to write in english what the line means/evaluates to.\n",
    "\n",
    "To add a comment, we use a `#` symbol, everything to the right of the # is apart of the comment."
   ]
  },
  {
   "cell_type": "code",
   "execution_count": null,
   "metadata": {
    "id": "91xo7B4DqM-t"
   },
   "outputs": [],
   "source": [
    "#Calculating an approximation for pi\n",
    "about_pi = 22/7\n",
    "about_pi"
   ]
  },
  {
   "cell_type": "markdown",
   "metadata": {
    "id": "8v8L8dI-qM-t"
   },
   "source": [
    "<img src=\"http://imgs.xkcd.com/comics/future_self.png\">\n",
    "Source: http://imgs.xkcd.com/comics/future_self.png"
   ]
  },
  {
   "cell_type": "markdown",
   "metadata": {
    "id": "OrGbPGqSqM-t"
   },
   "source": [
    "<a id='section3.2'></a>\n",
    "### 3.2 Assignment Statements\n",
    "When we speak we don't say, \"WOW look at that mammal with black and white stripes!\" Instead, we say, \"Zebra!\"\n",
    "\n",
    "Python can also do the same sort of classfication. We can assign a variable to an expression. This helps when we have really complicated code. We call this an *assignment statement* Python will evaluate the expression on the right side of the `=` and will store it to the variable on the left of the `=`. Once you run the line of code, everytime you call that varible later on, Python will insert the evaluated expression.\n",
    "\n",
    "As we have seen, programing does not only include just numbers. Text is one of the most common types of values used in programs.\n",
    "\n",
    "`string` is a programming term for a sequence of characters. This can include a single character, a word, a sentence, or a whole book. The contents can be anything; words, numbers, symbols.\n",
    "\n",
    "In order to create a string of characters, we put double quotes`(\")` or single quotes`(')` (both produce the same function) but, the opening and ending quotes must match.\n",
    "\n",
    "We have seen strings before in `print` statements\n",
    "\n",
    "Note: \n",
    "1. Variables are case senstive\n",
    "2. They cannot start with a number like `6` but, `six` will work.\n",
    "3. There cannot be any spaces, instead we use `_` (underscore) to seperate words."
   ]
  },
  {
   "cell_type": "code",
   "execution_count": null,
   "metadata": {
    "id": "HpYrqfORqM-t"
   },
   "outputs": [],
   "source": [
    "thesis = "
   ]
  },
  {
   "cell_type": "markdown",
   "metadata": {
    "id": "mL1MwIUdqM-u"
   },
   "source": [
    "Notice how no output was produced? This is because Python stored the expression in the variable `thesis`. Run the following cell:"
   ]
  },
  {
   "cell_type": "code",
   "execution_count": null,
   "metadata": {
    "id": "I85qrVDDqM-u"
   },
   "outputs": [],
   "source": [
    "thesis"
   ]
  },
  {
   "cell_type": "markdown",
   "metadata": {
    "id": "npoNS9ADqM-u"
   },
   "source": [
    "If no value has been assigned to a name, Python will return a NameError:"
   ]
  },
  {
   "cell_type": "code",
   "execution_count": null,
   "metadata": {
    "id": "3d1DmW6tqM-u"
   },
   "outputs": [],
   "source": [
    "topic_sentence"
   ]
  },
  {
   "cell_type": "markdown",
   "metadata": {
    "id": "NpAeGIu0qM-v"
   },
   "source": [
    "**Question 3.2.1** Assign a value to the `topic_sentence` below:"
   ]
  },
  {
   "cell_type": "code",
   "execution_count": null,
   "metadata": {
    "id": "bLEocGQLqM-v"
   },
   "outputs": [],
   "source": [
    "topic_sentence = "
   ]
  },
  {
   "cell_type": "code",
   "execution_count": null,
   "metadata": {
    "id": "LmAhkVIoqM-v"
   },
   "outputs": [],
   "source": [
    "topic_sentence"
   ]
  },
  {
   "cell_type": "markdown",
   "metadata": {
    "id": "Z2G2qqfNqM-v"
   },
   "source": [
    "A common pattern that in JN is to use assignment statements and then immediately evaluate the name in the last line of the cell."
   ]
  },
  {
   "cell_type": "code",
   "execution_count": null,
   "metadata": {
    "id": "--DSv7W7qM-v"
   },
   "outputs": [],
   "source": [
    "close_to_pi = 355/113\n",
    "close_to_pi"
   ]
  },
  {
   "cell_type": "markdown",
   "metadata": {
    "id": "ky94IR7zqM-v"
   },
   "source": [
    "Another common use of variables in JN is a series of lines in a single cell. This is a more complex computation in stages naming the end result rather than individual values"
   ]
  },
  {
   "cell_type": "code",
   "execution_count": null,
   "metadata": {
    "id": "s87OIUAKqM-w"
   },
   "outputs": [],
   "source": [
    "rent = \n",
    "months = \n",
    "total_rent_paid = rent*months\n",
    "total_rent_paid"
   ]
  },
  {
   "cell_type": "markdown",
   "metadata": {
    "id": "zu4anx4dqM-w"
   },
   "source": [
    "**Question 3.2.2** Assign the name `seconds_in_a_year` to the number of seconds in a year. Compute 365 days for the year.\n",
    "\n",
    "If you're stuck read the comments for hints :)"
   ]
  },
  {
   "cell_type": "code",
   "execution_count": null,
   "metadata": {
    "id": "ZoQ1vlEqqM-w"
   },
   "outputs": [],
   "source": [
    "# Change the next line so it computes the number of seconds in a year\n",
    "# Try not to use a computer and instead use the Arithmetic functions to solve this\n",
    "\n",
    "seconds_in_a_year = \n",
    "\n",
    "#We've put this line in the cell so that it will print your corresponding value\n",
    "#Do not change this part!\n",
    "#Hint: your output should start with 3 and end with three 0's\n",
    "seconds_in_a_year"
   ]
  },
  {
   "cell_type": "markdown",
   "metadata": {
    "id": "wTOSTTh5qM-w"
   },
   "source": [
    "<a id='section3.3'></a>\n",
    "### 3.3 Functions\n",
    "*Functions* are pieces of code written by others that you can freely use. A functions is called through its name and then its argument or arguments the syntax of a function looks like this:\n",
    "`function(argument)`. *Functions are case sensitive*. \n",
    "\n",
    "For example: `f(27)`\n",
    "\n",
    "This is called a *call expression* because `f` is the name of the function being called and `27` is the argument being passed in.\n",
    "\n",
    "Python has a set of built-in functions that are very simple to use. Lets look at a few!"
   ]
  },
  {
   "cell_type": "code",
   "execution_count": null,
   "metadata": {
    "id": "IoqhA1yyqM-w"
   },
   "outputs": [],
   "source": [
    "abs()"
   ]
  },
  {
   "cell_type": "markdown",
   "metadata": {
    "id": "SG0Oe_OwqM-w"
   },
   "source": [
    "**Question 3.3.1** Pick a random number and assign it to the value n. Then, execute the cell:"
   ]
  },
  {
   "cell_type": "code",
   "execution_count": null,
   "metadata": {
    "id": "RQpsTjb7qM-w"
   },
   "outputs": [],
   "source": [
    "n = \n",
    "abs(n)"
   ]
  },
  {
   "cell_type": "markdown",
   "metadata": {
    "id": "NiPdlt1-qM-x"
   },
   "source": [
    "Some functions take in multiple arguments, seperated by commas. Lets look at a few:"
   ]
  },
  {
   "cell_type": "code",
   "execution_count": null,
   "metadata": {
    "id": "iK5XaZZuqM-x"
   },
   "outputs": [],
   "source": [
    "max(3, 4, 5, 6, 7)"
   ]
  },
  {
   "cell_type": "code",
   "execution_count": null,
   "metadata": {
    "id": "KQImiyeUqM-x"
   },
   "outputs": [],
   "source": [
    "min(1, 2)"
   ]
  },
  {
   "cell_type": "markdown",
   "metadata": {
    "id": "uCcTMjdCqM-x"
   },
   "source": [
    "You can also pass in expressions into the functions. Below is an example of the function `round()`."
   ]
  },
  {
   "cell_type": "code",
   "execution_count": null,
   "metadata": {
    "id": "zoBXG6eZqM-x"
   },
   "outputs": [],
   "source": [
    "# Run this cell and see the result\n",
    "num_rotations = 4\n",
    "radians_turned = 2 * about_pi * num_rotations\n",
    "radians_turned"
   ]
  },
  {
   "cell_type": "code",
   "execution_count": null,
   "metadata": {
    "id": "jn_FklIvqM-x"
   },
   "outputs": [],
   "source": [
    "#Run this cell and see the evidence of rounding\n",
    "# round() rounds the output to the nearest integer\n",
    "approx_radians_turned = round(2 * about_pi * num_rotations)\n",
    "approx_radians_turned"
   ]
  },
  {
   "cell_type": "markdown",
   "metadata": {
    "id": "H4htKAxBqM-y"
   },
   "source": [
    "*Nesting* is the term for what was displayed above. Here is a more simple example:"
   ]
  },
  {
   "cell_type": "code",
   "execution_count": null,
   "metadata": {
    "id": "pZr4u5S5qM-y"
   },
   "outputs": [],
   "source": [
    "abs(4 - max(2,3,4,5,6,9))"
   ]
  },
  {
   "cell_type": "markdown",
   "metadata": {
    "id": "4Rz1z0a-qM-y"
   },
   "source": [
    "<a id='section3.4'></a>\n",
    "### 3.4 Data Types\n",
    "Python has several types of data.\n",
    "1. Numbers look like this `[1.22, 4, 0.45, 2.0]` -- however, there are different types of numbers\n",
    "    1. `int` is a whole number, such as 6, -2, 5500, etc.\n",
    "    2. `float` is a number with decimal places, such as 1.34, 88.3, 3.0\n",
    "2. `string` are a \"string\" of characters aka words and sentences. Strings are always surrounded by quotes\n",
    "3. `bool` this is a fancy way of saying `True/False` or `1/0`\n",
    "\n",
    "You can also convert different data types.\n",
    "1. `str()` converts to a string\n",
    "2. `int()` converts a number to an int\n",
    "3. `float()` converts a number to a float\n",
    "\n",
    "`type()` is a function that you can use to check the data type of something.\n",
    "\n",
    "Try running these following code blocks to see what types of data they are:"
   ]
  },
  {
   "cell_type": "code",
   "execution_count": null,
   "metadata": {
    "id": "hK6hesv9qM-y"
   },
   "outputs": [],
   "source": [
    "type(15)"
   ]
  },
  {
   "cell_type": "code",
   "execution_count": null,
   "metadata": {
    "id": "fJbxHDZSqM-z"
   },
   "outputs": [],
   "source": [
    "type(False)"
   ]
  },
  {
   "cell_type": "code",
   "execution_count": null,
   "metadata": {
    "id": "g84Fj6N2qM-z"
   },
   "outputs": [],
   "source": [
    "type(\"what type is this?\")"
   ]
  },
  {
   "cell_type": "markdown",
   "metadata": {
    "id": "lFEhDE5aqM-z"
   },
   "source": [
    "__Question 3.4.1__ Try converting the number `5` into a string:"
   ]
  },
  {
   "cell_type": "code",
   "execution_count": null,
   "metadata": {
    "id": "6veL9IYJqM-z"
   },
   "outputs": [],
   "source": [
    "string_5 = \n",
    "\n",
    "#the line below will print what data type string_5 is\n",
    "type(string_5)"
   ]
  },
  {
   "cell_type": "markdown",
   "metadata": {
    "id": "wrz92LvdqM-z"
   },
   "source": [
    "<a id='section3.5'></a>\n",
    "### 3.5 Importing Code\n",
    "\n",
    "A really nice feature that Python has is built-in functions. These are functions that were already defined by other people can be imported and used without having to define functions.\n",
    "\n",
    "Let's look at the `import math` function:"
   ]
  },
  {
   "cell_type": "code",
   "execution_count": null,
   "metadata": {
    "id": "hThSvenWqM-z"
   },
   "outputs": [],
   "source": [
    "import math\n",
    "\n",
    "#math is super useful when trying to use functions like pi or square root\n",
    "print(math.pi)\n",
    "print(math.sqrt(16))"
   ]
  },
  {
   "cell_type": "markdown",
   "metadata": {
    "id": "I3i7MA-lqM-z"
   },
   "source": [
    "Once you import the code once in the notebook, python does not need a reminder everytime you use the function\n",
    "Here are some functions you can use in the `math` notebook:\n",
    "\n",
    "|Method Name|Value|\n",
    "|-|-|\n",
    "|`cos(x)`|returns the cosine of x radians|\n",
    "|`sin(x)`|returns the sine of x radians|\n",
    "|`tan(x)`|returns the tangent of x radians|\n",
    "|`e`|returns the value of *e*|\n",
    "|`pi`|returns the value of pi (3.14)|\n",
    "|`factorial(x)`| calculates factorials|\n",
    "|`log(logarithm, base)`|calculates logarithms. The first number is the logarithm and the second number is the base.|\n",
    "|`sqrt(x)`| calculates square roots|"
   ]
  },
  {
   "cell_type": "markdown",
   "metadata": {
    "id": "fX0JMFbSqM-0"
   },
   "source": [
    "**Question 3.5.1** \n",
    "Let's create some code:\n",
    "\n",
    "Write this code in the next line! \n",
    "\n",
    "**Hint**: just simply stating the function does not tell python where to get it from. Remember to write `math.` before each function\n",
    "$$cos(\\pi)$$"
   ]
  },
  {
   "cell_type": "code",
   "execution_count": null,
   "metadata": {
    "id": "_kL5Qp_aqM-0"
   },
   "outputs": [],
   "source": []
  },
  {
   "cell_type": "markdown",
   "metadata": {
    "id": "j4MGbVmsqM-0"
   },
   "source": [
    "Try this one:\n",
    "$$\\sqrt(16)$$"
   ]
  },
  {
   "cell_type": "code",
   "execution_count": null,
   "metadata": {
    "id": "HpBvdYkeqM-0"
   },
   "outputs": [],
   "source": []
  },
  {
   "cell_type": "markdown",
   "metadata": {},
   "source": [
    "<a id='section3.6'></a>\n",
    "### 3.6 Creating your own functions\n",
    "In addition to being able to use functions that are already built-in to Python, you can also create your own functions! Creating a function is also called defining a function.\n",
    "\n",
    "The basic structure of writing your own function is as follows:"
   ]
  },
  {
   "cell_type": "code",
   "execution_count": null,
   "metadata": {},
   "outputs": [],
   "source": [
    "#this code does not work -- this is in a code cell for format purposes\n",
    "def function_name(arg1, arg2, ...):\n",
    "    do_stuff"
   ]
  },
  {
   "cell_type": "markdown",
   "metadata": {},
   "source": [
    "Parts of a function definition:\n",
    "1. `def` - This is the first thing you type to define a function and goes at the beginning of every new function you make.\n",
    "2. `function_name` - This can be anything but falls under the same constraints as variable names (Section 3.2). This usually describes the purpose of the function.\n",
    "3. `(arg1, arg2, ...)` - The args in the parentheses are short for argument. These are the arguments (inputs) for the function. The ellipsis (...) means that you can have as many arguments for your function as you want.\n",
    "4. `:` - This always ends the first line of a function definition. If you forget this your code will not work.\n",
    "5. `do_stuff` - This is all the code that you will put in your function. It is indented to the right, which you can do by pressing the Tab key.\n",
    "\n",
    "Below is a function `square_plus_one` that I have created that takes a square of a number, adds 1 to the value, then prints it."
   ]
  },
  {
   "cell_type": "code",
   "execution_count": null,
   "metadata": {},
   "outputs": [],
   "source": [
    "def square_plus_one(x):\n",
    "    print(x**2 + 1)\n",
    "\n",
    "#the lines below call square_plus_one with a few different inputs, these lines are not indented\n",
    "square_plus_one(1)\n",
    "square_plus_one(5)\n",
    "square_plus_one(-15)"
   ]
  },
  {
   "cell_type": "markdown",
   "metadata": {},
   "source": [
    "__Question 3.6.1__ Define a function named `smallest_times_two` that takes the smaller value of two arguments `x` and `y`, multiplies it by two, then prints it. Then call your function under your definition with inputs 25 and 3 and make sure that when you run the cell you get 6.\n",
    "_(Hint: use a function from Section 3.4)_"
   ]
  },
  {
   "cell_type": "code",
   "execution_count": null,
   "metadata": {},
   "outputs": [],
   "source": [
    "def smallest_times_two(x, y):\n",
    "    \n",
    "    \n",
    "smallest_times_two(25, 3)"
   ]
  },
  {
   "cell_type": "markdown",
   "metadata": {
    "id": "qXqUDlt7qM-1"
   },
   "source": [
    "<a id='section4'></a>\n",
    "# Part 4: Lists\n",
    "Lists are another Python data type. Although we could code every little detail in our computer, we can lists to put many values into one place so we can tell functions to operate them as a group. Let's look at how to work with these!"
   ]
  },
  {
   "cell_type": "markdown",
   "metadata": {},
   "source": [
    "<a id='section4.1'></a>\n",
    "### 4.1 Creating Lists\n",
    "Lists are denoted using square brackets `[` and `]`. To create a list, all you have to do is simply typw whatever you want to store in the list separated by commas and surrounded by brackets.\n",
    "\n",
    "For example:\n",
    "`new_list = [1, 2, 3]`\n",
    "\n",
    "new_list is now a list that contains the numbers 1, 2, and 3\n",
    "\n",
    "Try it out yourself! Create a list below called `groceries` that contains the strings `apples`, `broccoli`, `bread`, and `oat milk`."
   ]
  },
  {
   "cell_type": "code",
   "execution_count": null,
   "metadata": {},
   "outputs": [],
   "source": []
  },
  {
   "cell_type": "markdown",
   "metadata": {
    "id": "oeuhlBsFqM-3"
   },
   "source": [
    "<a id='section4.2'></a>\n",
    "### 4.2 Single Elements of Arrays ('indexing')\n",
    "A lot of times in Python we want just one specific value in a list containing many values. Lets look at an example below:"
   ]
  },
  {
   "cell_type": "code",
   "execution_count": null,
   "metadata": {
    "id": "UZVwp9NEqM-3"
   },
   "outputs": [],
   "source": [
    "#run this cell to make list\n",
    "big = range(-13, 987)"
   ]
  },
  {
   "cell_type": "markdown",
   "metadata": {
    "id": "5o46fTfmqM-3"
   },
   "source": [
    "This creates a list called `big` of 1,000 values. Lets assume we want to find the 100th value of `big`. To do this, we use a term called indexing. Here are some key features you should know first:\n",
    "\n",
    "1. To index, you type square brackets after the list name with the position of the item in the list you want ex. `list[1]` \n",
    "2. indexing starts with `0` not `1`. This means that if we do `list[1]` it will give us the second element of the array; `list[0]` will give the first element of the array."
   ]
  },
  {
   "cell_type": "markdown",
   "metadata": {
    "id": "7K31SagdqM-3"
   },
   "source": [
    "**Question 4.2.1** Find the 100th element in `big`:"
   ]
  },
  {
   "cell_type": "code",
   "execution_count": null,
   "metadata": {
    "id": "3t8IWzMRqM-3"
   },
   "outputs": [],
   "source": []
  },
  {
   "cell_type": "markdown",
   "metadata": {},
   "source": [
    "<a id='section4.3'></a>\n",
    "### 4.3 List Operations\n",
    "Here are some operations you can do on lists:\n",
    "1. ~~`+` adds items in lists by index ex. `[1, 2, 3] + [2, 3, 4]` equals `[3, 5, 7]`~~\n",
    "    1. ^^ This is an error I made in class -- This operator works as shown in the way above on _arrays_, not _lists_ (two similar data types, but don't worry about this for now).\n",
    "    2. `*` will stick on another list to the end of a list ex. `[1, 2, 3] + [4, 5, 6]` equals `[1, 2, 3, 4, 5, 6]`\n",
    "2. ~~`*` will multiply each item in a list by a number ex. `[1, 2] * 2` equals `[2, 4]`~~ \n",
    "    1. ^^ This is an error I made in class -- This operator works as shown in the way above on _arrays_, not _lists_. \n",
    "    2. `*` on lists will repeat the list by the number you multiply it by ex. `[1, 2] * 2` equals `[1, 2, 1, 2]`\n",
    "3. `len(list)` will give you the length of a list ex. `len([14, 12, 0, -2])` equals `4`"
   ]
  },
  {
   "cell_type": "markdown",
   "metadata": {
    "id": "T8gg5MkqqM-5"
   },
   "source": [
    "<a id='section5'></a>\n",
    "# Part 5: Challenge Questions"
   ]
  },
  {
   "cell_type": "markdown",
   "metadata": {
    "id": "AGM4A-qkqM-5"
   },
   "source": [
    "<a id='section5.1'></a>\n",
    "### 5.1 Arithmetic\n",
    "**Question 5.1.1** In the next cell assign the name `new_year` to the larger number amoung the following two numbers:\n",
    "1. the absolute value of $2^{5}-2^{11}-2^2-1$ AND\n",
    "2. $5 \\times 13 \\times 31 +5$\n",
    "\n",
    "Challenge yourself and use one statement (one line of code):\n",
    "\n",
    "\n",
    "**Hint:** if you get 2020, re-read the first statement"
   ]
  },
  {
   "cell_type": "code",
   "execution_count": null,
   "metadata": {
    "id": "6IZwwEuPqM-5"
   },
   "outputs": [],
   "source": [
    "new_year = "
   ]
  },
  {
   "cell_type": "markdown",
   "metadata": {
    "id": "Vp8IRSSrqM-6"
   },
   "source": [
    "<a id='section5.2'></a>\n",
    "### 5.2 Lists and Arithmetic\n",
    "Here is a (modified) menu for the best fast-food joint ever!"
   ]
  },
  {
   "cell_type": "code",
   "execution_count": null,
   "metadata": {
    "id": "fsfjNT_iqM-6"
   },
   "outputs": [],
   "source": [
    "#Run this cell\n",
    "from datascience.tables import Table\n",
    "food = ['Double-Double', 'Cheeseburger', 'Hamburger', 'French Fries', 'Shake (any flavour)', 'Small Drink', 'Medium Drink', 'Large Drink']\n",
    "prices = ['3.45', '2.40', '2.10', '1.60', '2.15', '1.50', '1.65', '1.85']\n",
    "In_n_out = Table().with_columns('Food', food, 'Prices ($)', prices)\n",
    "In_n_out"
   ]
  },
  {
   "cell_type": "markdown",
   "metadata": {
    "id": "qBn05zCMqM-6"
   },
   "source": [
    "Using this table lets answer some challenge questions:"
   ]
  },
  {
   "cell_type": "markdown",
   "metadata": {
    "id": "N800PuZ_qM-6"
   },
   "source": [
    "**Question 5.3.1** Use indexing and the list `prices` to calculate Jenny's order:\n",
    "    - Cheeseburger\n",
    "    - French Fries\n",
    "    - Chocolate Shake\n",
    "Use `jenny_bill` as the name of the calculation."
   ]
  },
  {
   "cell_type": "code",
   "execution_count": null,
   "metadata": {
    "id": "x-9xpdiKqM-6"
   },
   "outputs": [],
   "source": [
    "jenny_bill = "
   ]
  },
  {
   "cell_type": "markdown",
   "metadata": {
    "id": "J9nU_YEtqM-7"
   },
   "source": [
    "**Question 5.3.2**\n",
    "The combined sales tax rate for Berkeley, CA is [9.25%]('https://www.avalara.com/taxrates/en/state-rates/california/cities/berkeley/'). Calculate Jenny's total restaurant bill with tax below:"
   ]
  },
  {
   "cell_type": "code",
   "execution_count": null,
   "metadata": {
    "id": "b_VCy0ESqM-7"
   },
   "outputs": [],
   "source": [
    "jenny_total = "
   ]
  },
  {
   "cell_type": "markdown",
   "metadata": {
    "id": "HURPaACAqM-7"
   },
   "source": [
    "**Question 5.3.3** Now compute the following orders with the given names:\n",
    "\n",
    "|Name|Order|\n",
    "|-|-|\n",
    "|Mark|Cheeseburger and Medium Drink|\n",
    "|Ajay|French Fries and Small Drink|\n",
    "|Kevin|Hamburger, French Fries, Large Drink|\n",
    "|Ani|Double-Double and Small Drink|"
   ]
  },
  {
   "cell_type": "code",
   "execution_count": null,
   "metadata": {
    "id": "ZAaAxGJtqM-7"
   },
   "outputs": [],
   "source": [
    "#Cheeseburger and a Medium Drink\n",
    "mark_bill = \n",
    "\n",
    "#French Fries and Small Drink\n",
    "ajay_bill = \n",
    "\n",
    "#Hamburger, French Fries, Large Drink\n",
    "kevin_bill = \n",
    "\n",
    "#Double-Double and Small Drink\n",
    "ani_bill = "
   ]
  },
  {
   "cell_type": "markdown",
   "metadata": {},
   "source": [
    "<a id='section6'></a>\n",
    "# Feedback survey\n",
    "This is optional, but I would appreciate if you could fill this out: https://tinyurl.com/splashpythonfeedback\n",
    "\n",
    "Thanks for attending!"
   ]
  }
 ],
 "metadata": {
  "colab": {
   "name": "Berkeley Splash Python [student copy]FINAL.ipynb",
   "provenance": []
  },
  "kernelspec": {
   "display_name": "Python 3",
   "language": "python",
   "name": "python3"
  },
  "language_info": {
   "codemirror_mode": {
    "name": "ipython",
    "version": 3
   },
   "file_extension": ".py",
   "mimetype": "text/x-python",
   "name": "python",
   "nbconvert_exporter": "python",
   "pygments_lexer": "ipython3",
   "version": "3.8.6"
  }
 },
 "nbformat": 4,
 "nbformat_minor": 1
}
